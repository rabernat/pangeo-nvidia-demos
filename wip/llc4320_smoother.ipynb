{
 "cells": [
  {
   "cell_type": "markdown",
   "metadata": {},
   "source": [
    "# LLC4320 Global Rotarty Spectrum"
   ]
  },
  {
   "cell_type": "code",
   "execution_count": 1,
   "metadata": {},
   "outputs": [],
   "source": [
    "import dask"
   ]
  },
  {
   "cell_type": "code",
   "execution_count": 126,
   "metadata": {},
   "outputs": [
    {
     "data": {
      "text/html": [
       "<table style=\"border: 2px solid white;\">\n",
       "<tr>\n",
       "<td style=\"vertical-align: top; border: 0px solid white\">\n",
       "<h3 style=\"text-align: left;\">Client</h3>\n",
       "<ul style=\"text-align: left; list-style: none; margin: 0; padding: 0;\">\n",
       "  <li><b>Scheduler: </b>tcp://10.32.78.25:44015</li>\n",
       "  <li><b>Dashboard: </b><a href='/user/0000-0001-5999-4917/proxy/8787/status' target='_blank'>/user/0000-0001-5999-4917/proxy/8787/status</a>\n",
       "</ul>\n",
       "</td>\n",
       "<td style=\"vertical-align: top; border: 0px solid white\">\n",
       "<h3 style=\"text-align: left;\">Cluster</h3>\n",
       "<ul style=\"text-align: left; list-style:none; margin: 0; padding: 0;\">\n",
       "  <li><b>Workers: </b>5</li>\n",
       "  <li><b>Cores: </b>10</li>\n",
       "  <li><b>Memory: </b>57.50 GB</li>\n",
       "</ul>\n",
       "</td>\n",
       "</tr>\n",
       "</table>"
      ],
      "text/plain": [
       "<Client: 'tcp://10.32.78.25:44015' processes=5 threads=10, memory=57.50 GB>"
      ]
     },
     "execution_count": 126,
     "metadata": {},
     "output_type": "execute_result"
    }
   ],
   "source": [
    "from dask.distributed import Client\n",
    "\n",
    "client = Client(\"tcp://10.32.78.25:44015\")\n",
    "client"
   ]
  },
  {
   "cell_type": "code",
   "execution_count": 2,
   "metadata": {},
   "outputs": [
    {
     "data": {
      "text/plain": [
       "{'distributed': {'logging': {'bokeh': 'critical'},\n",
       "  'dashboard': {'link': '/user/{JUPYTERHUB_USER}/proxy/{port}/status'},\n",
       "  'admin': {'tick': {'limit': '5s'}}},\n",
       " 'kubernetes': {'name': 'dask-{JUPYTERHUB_USER}-{uuid}',\n",
       "  'count': {'max': 30},\n",
       "  'worker-template': {'metadata': None,\n",
       "   'spec': {'restartPolicy': 'Never',\n",
       "    'containers': [{'args': ['dask-worker',\n",
       "       '--nthreads',\n",
       "       '2',\n",
       "       '--no-bokeh',\n",
       "       '--memory-limit',\n",
       "       '11.5GB',\n",
       "       '--death-timeout',\n",
       "       '60'],\n",
       "      'image': '${JUPYTER_IMAGE_SPEC}',\n",
       "      'name': 'dask-${JUPYTERHUB_USER}',\n",
       "      'resources': {'limits': {'cpu': 16, 'memory': '11.5G'},\n",
       "       'requests': {'cpu': 1, 'memory': '11.5G'}}}]}}},\n",
       " 'labextension': {'factory': {'module': 'dask_kubernetes',\n",
       "   'class': 'KubeCluster',\n",
       "   'args': [],\n",
       "   'kwargs': {}}},\n",
       " 'temporary-directory': None,\n",
       " 'array': {'svg': {'size': 120}}}"
      ]
     },
     "execution_count": 2,
     "metadata": {},
     "output_type": "execute_result"
    }
   ],
   "source": [
    "dask.config.config"
   ]
  },
  {
   "cell_type": "code",
   "execution_count": 4,
   "metadata": {},
   "outputs": [],
   "source": [
    "import numpy as np\n",
    "import xarray as xr\n",
    "from matplotlib import pyplot as plt\n",
    "import xgcm\n",
    "import xrft\n",
    "%matplotlib inline"
   ]
  },
  {
   "cell_type": "markdown",
   "metadata": {},
   "source": [
    "### Create and Connect to Dask Cluster\n",
    "\n",
    "I am using a very big cluster to make it go fast."
   ]
  },
  {
   "cell_type": "markdown",
   "metadata": {},
   "source": [
    "### Open and Merge Data"
   ]
  },
  {
   "cell_type": "code",
   "execution_count": 105,
   "metadata": {},
   "outputs": [],
   "source": [
    "import intake\n",
    "cat = intake.Catalog('https://raw.githubusercontent.com/pangeo-data/pangeo-datastore/master/intake-catalogs/ocean/llc4320.yaml')\n",
    "ds_grid = cat.LLC4320_grid.to_dask().reset_coords()\n",
    "ds_grid = ds_grid.drop(['k_p1','Zp1', 'Zl', 'PHrefF', 'drC'])\n",
    "ds_U = cat.LLC4320_SSU(chunks=None).to_dask()\n",
    "ds_V = cat.LLC4320_SSV(chunks=None).to_dask()"
   ]
  },
  {
   "cell_type": "code",
   "execution_count": 106,
   "metadata": {},
   "outputs": [
    {
     "data": {
      "text/plain": [
       "<xarray.Dataset>\n",
       "Dimensions:  (face: 13, i: 4320, i_g: 4320, j: 4320, j_g: 4320, time: 9030)\n",
       "Coordinates:\n",
       "  * face     (face) int64 0 1 2 3 4 5 6 7 8 9 10 11 12\n",
       "  * i_g      (i_g) int64 0 1 2 3 4 5 6 7 ... 4313 4314 4315 4316 4317 4318 4319\n",
       "  * j        (j) int64 0 1 2 3 4 5 6 7 ... 4313 4314 4315 4316 4317 4318 4319\n",
       "  * time     (time) datetime64[ns] 2011-09-13 ... 2012-09-23T05:00:00\n",
       "  * i        (i) int64 0 1 2 3 4 5 6 7 ... 4313 4314 4315 4316 4317 4318 4319\n",
       "  * j_g      (j_g) int64 0 1 2 3 4 5 6 7 ... 4313 4314 4315 4316 4317 4318 4319\n",
       "Data variables:\n",
       "    U        (time, face, j, i_g) float32 ...\n",
       "    V        (time, face, j_g, i) float32 ..."
      ]
     },
     "execution_count": 106,
     "metadata": {},
     "output_type": "execute_result"
    }
   ],
   "source": [
    "ds = xr.merge([ds_U, ds_V])\n",
    "ds"
   ]
  },
  {
   "cell_type": "code",
   "execution_count": 107,
   "metadata": {},
   "outputs": [
    {
     "data": {
      "text/plain": [
       "<xarray.Dataset>\n",
       "Dimensions:  (face: 13, i: 4320, i_g: 4320, j: 4320, j_g: 4320, time: 2)\n",
       "Coordinates:\n",
       "  * face     (face) int64 0 1 2 3 4 5 6 7 8 9 10 11 12\n",
       "  * i_g      (i_g) int64 0 1 2 3 4 5 6 7 ... 4313 4314 4315 4316 4317 4318 4319\n",
       "  * j        (j) int64 0 1 2 3 4 5 6 7 ... 4313 4314 4315 4316 4317 4318 4319\n",
       "  * time     (time) datetime64[ns] 2011-09-13 2011-09-13T01:00:00\n",
       "  * i        (i) int64 0 1 2 3 4 5 6 7 ... 4313 4314 4315 4316 4317 4318 4319\n",
       "  * j_g      (j_g) int64 0 1 2 3 4 5 6 7 ... 4313 4314 4315 4316 4317 4318 4319\n",
       "Data variables:\n",
       "    U        (time, face, j, i_g) float32 dask.array<chunksize=(1, 1, 4320, 4320), meta=np.ndarray>\n",
       "    V        (time, face, j_g, i) float32 dask.array<chunksize=(1, 1, 4320, 4320), meta=np.ndarray>"
      ]
     },
     "execution_count": 107,
     "metadata": {},
     "output_type": "execute_result"
    }
   ],
   "source": [
    "# slice in time first and then chunk in order to avoid enormous graph\n",
    "NT = 2 # vary up to 9030 to make problem bigger\n",
    "ds = ds.isel(time=slice(0, NT)).chunk({'time': 1, 'face': 1})\n",
    "ds"
   ]
  },
  {
   "cell_type": "code",
   "execution_count": 108,
   "metadata": {},
   "outputs": [],
   "source": [
    "from xmitgcm.llcreader.llcmodel import faces_dataset_to_latlon\n",
    "\n",
    "# rechunk to full latlon faces (huge!)\n",
    "chunks = {'i': -1, 'j': -1, 'i_g': -1, 'j_g': -1}\n",
    "\n",
    "ds_ll = faces_dataset_to_latlon(ds, metric_vector_pairs=[]).chunk(chunks)\n",
    "ds_ll\n",
    "ds_grid_ll = faces_dataset_to_latlon(ds_grid).chunk(chunks)"
   ]
  },
  {
   "cell_type": "code",
   "execution_count": 109,
   "metadata": {},
   "outputs": [
    {
     "data": {
      "text/html": [
       "<table>\n",
       "<tr>\n",
       "<td>\n",
       "<table>\n",
       "  <thead>\n",
       "    <tr><td> </td><th> Array </th><th> Chunk </th></tr>\n",
       "  </thead>\n",
       "  <tbody>\n",
       "    <tr><th> Bytes </th><td> 1.79 GB </td> <td> 895.80 MB </td></tr>\n",
       "    <tr><th> Shape </th><td> (2, 12960, 17280) </td> <td> (1, 12960, 17280) </td></tr>\n",
       "    <tr><th> Count </th><td> 149 Tasks </td><td> 2 Chunks </td></tr>\n",
       "    <tr><th> Type </th><td> float32 </td><td> numpy.ndarray </td></tr>\n",
       "  </tbody>\n",
       "</table>\n",
       "</td>\n",
       "<td>\n",
       "<svg width=\"194\" height=\"154\" style=\"stroke:rgb(0,0,0);stroke-width:1\" >\n",
       "\n",
       "  <!-- Horizontal lines -->\n",
       "  <line x1=\"10\" y1=\"0\" x2=\"24\" y2=\"14\" style=\"stroke-width:2\" />\n",
       "  <line x1=\"10\" y1=\"90\" x2=\"24\" y2=\"104\" style=\"stroke-width:2\" />\n",
       "\n",
       "  <!-- Vertical lines -->\n",
       "  <line x1=\"10\" y1=\"0\" x2=\"10\" y2=\"90\" style=\"stroke-width:2\" />\n",
       "  <line x1=\"17\" y1=\"7\" x2=\"17\" y2=\"97\" />\n",
       "  <line x1=\"24\" y1=\"14\" x2=\"24\" y2=\"104\" style=\"stroke-width:2\" />\n",
       "\n",
       "  <!-- Colored Rectangle -->\n",
       "  <polygon points=\"10.000000,0.000000 24.948598,14.948598 24.948598,104.948598 10.000000,90.000000\" style=\"fill:#ECB172A0;stroke-width:0\"/>\n",
       "\n",
       "  <!-- Horizontal lines -->\n",
       "  <line x1=\"10\" y1=\"0\" x2=\"130\" y2=\"0\" style=\"stroke-width:2\" />\n",
       "  <line x1=\"17\" y1=\"7\" x2=\"137\" y2=\"7\" />\n",
       "  <line x1=\"24\" y1=\"14\" x2=\"144\" y2=\"14\" style=\"stroke-width:2\" />\n",
       "\n",
       "  <!-- Vertical lines -->\n",
       "  <line x1=\"10\" y1=\"0\" x2=\"24\" y2=\"14\" style=\"stroke-width:2\" />\n",
       "  <line x1=\"130\" y1=\"0\" x2=\"144\" y2=\"14\" style=\"stroke-width:2\" />\n",
       "\n",
       "  <!-- Colored Rectangle -->\n",
       "  <polygon points=\"10.000000,0.000000 130.000000,0.000000 144.948598,14.948598 24.948598,14.948598\" style=\"fill:#ECB172A0;stroke-width:0\"/>\n",
       "\n",
       "  <!-- Horizontal lines -->\n",
       "  <line x1=\"24\" y1=\"14\" x2=\"144\" y2=\"14\" style=\"stroke-width:2\" />\n",
       "  <line x1=\"24\" y1=\"104\" x2=\"144\" y2=\"104\" style=\"stroke-width:2\" />\n",
       "\n",
       "  <!-- Vertical lines -->\n",
       "  <line x1=\"24\" y1=\"14\" x2=\"24\" y2=\"104\" style=\"stroke-width:2\" />\n",
       "  <line x1=\"144\" y1=\"14\" x2=\"144\" y2=\"104\" style=\"stroke-width:2\" />\n",
       "\n",
       "  <!-- Colored Rectangle -->\n",
       "  <polygon points=\"24.948598,14.948598 144.948598,14.948598 144.948598,104.948598 24.948598,104.948598\" style=\"fill:#ECB172A0;stroke-width:0\"/>\n",
       "\n",
       "  <!-- Text -->\n",
       "  <text x=\"84.948598\" y=\"124.948598\" font-size=\"1.0rem\" font-weight=\"100\" text-anchor=\"middle\" >17280</text>\n",
       "  <text x=\"164.948598\" y=\"59.948598\" font-size=\"1.0rem\" font-weight=\"100\" text-anchor=\"middle\" transform=\"rotate(-90,164.948598,59.948598)\">12960</text>\n",
       "  <text x=\"7.474299\" y=\"117.474299\" font-size=\"1.0rem\" font-weight=\"100\" text-anchor=\"middle\" transform=\"rotate(45,7.474299,117.474299)\">2</text>\n",
       "</svg>\n",
       "</td>\n",
       "</tr>\n",
       "</table>"
      ],
      "text/plain": [
       "dask.array<rechunk-merge, shape=(2, 12960, 17280), dtype=float32, chunksize=(1, 12960, 17280), chunktype=numpy.ndarray>"
      ]
     },
     "execution_count": 109,
     "metadata": {},
     "output_type": "execute_result"
    }
   ],
   "source": [
    "ds_ll.U.data"
   ]
  },
  {
   "cell_type": "code",
   "execution_count": 110,
   "metadata": {},
   "outputs": [],
   "source": [
    "from numba import jit, guvectorize\n",
    "\n",
    "@jit(nopython=True)\n",
    "def diff_x_right(f):\n",
    "    ny, nx = f.shape\n",
    "    g = np.ones_like(f)\n",
    "    for j in range(ny):\n",
    "        j_next = j\n",
    "        for i in range(nx):\n",
    "            i_next = (i + 1) % nx\n",
    "            g[j, i] = -f[j, i] + f[j_next, i_next]\n",
    "    return g\n",
    "\n",
    "@jit(nopython=True)\n",
    "def diff_y_right(f):\n",
    "    ny, nx = f.shape\n",
    "    g = np.ones_like(f)\n",
    "    for j in range(ny):\n",
    "        j_next = (j + 1) % ny\n",
    "        for i in range(nx):\n",
    "            i_next = i\n",
    "            g[j, i] = -f[j, i] + f[j_next, i_next]\n",
    "    return g\n",
    "\n",
    "@jit(nopython=True)\n",
    "def diff_x_left(f):\n",
    "    ny, nx = f.shape\n",
    "    g = np.ones_like(f)\n",
    "    for j in range(ny):\n",
    "        j_next = j\n",
    "        for i in range(nx):\n",
    "            i_next = (i - 1) % nx\n",
    "            g[j, i] = f[j, i] - f[j_next, i_next]\n",
    "    return g\n",
    "\n",
    "@jit(nopython=True)\n",
    "def diff_y_left(f):\n",
    "    ny, nx = f.shape\n",
    "    g = np.ones_like(f)\n",
    "    for j in range(ny):\n",
    "        j_next = (j - 1) % ny\n",
    "        for i in range(nx):\n",
    "            i_next = i\n",
    "            g[j, i] = f[j, i] - f[j_next, i_next]\n",
    "    return g\n",
    "\n",
    "sig = \"Tuple((float32[:,:], float32[:,:]))(float32[:,:],float32[:,:],float32[:,:],float32[:,:],float32[:,:],float32[:,:],float32[:,:],float32[:,:],float32[:,:],int64,float32[:,:],int64,int64)\"\n",
    "@jit(sig, nopython=True)\n",
    "def smooth_numba(U, V, dxF, dxV, dyF, dyU, rAw, rAs, c11, c12, c21, c22, DT):\n",
    "\n",
    "    tau_11 = c11 * dxF**-1 * diff_x_right(U)\n",
    "    tau_12 = c12 * dyU**-1 * diff_y_left(U)\n",
    "    tau_21 = c21 * dxV**-1 * diff_x_left(V)\n",
    "    tau_22 = c22 * dxF**-1 * diff_y_right(V)\n",
    "\n",
    "    # we neglect land completely, as Hussein recommends\n",
    "    G_u = (diff_x_left(dyF * tau_11)\n",
    "           + diff_x_right(dxV * tau_12)) / rAw\n",
    "    G_v = (diff_y_right(dyU * tau_21)\n",
    "           + diff_y_left(dxF * tau_22)) / rAs\n",
    "\n",
    "    # step forward\n",
    "    U_sm = U + DT * G_u\n",
    "    V_sm = V + DT * G_v\n",
    "    \n",
    "    return U_sm, V_sm\n",
    "\n",
    "@jit(nopython=True)\n",
    "def iterate_numba(U, V, dxF, dxV, dyF, dyU, rAw, rAs, c11, c12, c21, c22, DT, niters):\n",
    "    for n in range(niters):\n",
    "        U, V = smooth_numba(U, V, dxF, dxV, dyF, dyU, rAw, rAs, c11, c12, c21, c22, DT)\n",
    "    return U, V"
   ]
  },
  {
   "cell_type": "code",
   "execution_count": 120,
   "metadata": {},
   "outputs": [],
   "source": [
    "# https://github.com/numba/numba/issues/4314   \n",
    "    \n",
    "def cp_guvectorize(*args, **kwargs):\n",
    "    \"\"\"Same as :func:`numba.guvectorize`, but can be used to decorate dynamically\n",
    "    defined function and then pickle them with\n",
    "    `cloudpickle <https://pypi.org/project/cloudpickle/>`_.\n",
    "    On the other hand, it can't be called from another jit-compiled function.\n",
    "    \"\"\"\n",
    "\n",
    "    def decorator(func):\n",
    "        return _PickleableGUVectorized(func, args, kwargs)\n",
    "\n",
    "    return decorator\n",
    "\n",
    "\n",
    "class _PickleableGUVectorized:\n",
    "    def __init__(self, func, guvectorize_args, guvectorize_kwargs):\n",
    "        self.args = func, guvectorize_args, guvectorize_kwargs\n",
    "        decorator = guvectorize(*guvectorize_args, **guvectorize_kwargs)\n",
    "        self.ufunc = decorator(func)\n",
    "\n",
    "    def __reduce__(self):\n",
    "        return _PickleableGUVectorized, self.args\n",
    "\n",
    "    def __call__(self, *args, **kwargs):\n",
    "        return self.ufunc(*args, **kwargs)"
   ]
  },
  {
   "cell_type": "code",
   "execution_count": 121,
   "metadata": {},
   "outputs": [],
   "source": [
    "# sig for smooth numba\n",
    "ftylist = \"(float32[:,:],float32[:,:],float32[:,:],float32[:,:],float32[:,:],float32[:,:],float32[:,:],float32[:,:],float32[:,:],int64,float32[:,:],int64,int64,float32[:,:],float32[:,:])\"\n",
    "\n",
    "ufunc_sig = 8 * '(j, i), ' + '(j, i), (), (j, i), (), () -> (j, i), (j, i)'\n",
    "\n",
    "@cp_guvectorize(ftylist, ufunc_sig)\n",
    "def smooth_gu(U, V, dxF, dxV, dyF, dyU, rAw, rAs, c11, c12, c21, c22, DT, U_out, V_out):\n",
    "    U_out[:], V_out[:] = smooth_numba(U, V, dxF, dxV, dyF, dyU, rAw, rAs, c11, c12, c21, c22, DT)"
   ]
  },
  {
   "cell_type": "code",
   "execution_count": 122,
   "metadata": {},
   "outputs": [],
   "source": [
    "# construct missing intermediate metrics\n",
    "dxC = ds_grid_ll.dxC\n",
    "dxG = ds_grid_ll.dxG\n",
    "dxF = grid.interp(dxC, 'X').chunk({'i': -1, 'j': -1})\n",
    "dxV = grid.interp(dxG, 'X').chunk({'i_g': -1, 'j_g': -1})\n",
    "dyC = ds_grid_ll.dyC\n",
    "dyG = ds_grid_ll.dyG\n",
    "dyF = grid.interp(dyC, 'Y', boundary='extend').chunk({'i': -1, 'j': -1})\n",
    "dyU = grid.interp(dyG, 'Y', boundary='extend').chunk({'i_g': -1, 'j_g': -1})\n",
    "\n",
    "# coefficients\n",
    "Ah = 1\n",
    "c11 = np.cos(np.deg2rad(ds_grid_ll.YC))**(3/2)\n",
    "c21 = np.cos(np.deg2rad(ds_grid_ll.YG))**(3/2)\n",
    "c12 = c22 = 1"
   ]
  },
  {
   "cell_type": "code",
   "execution_count": 123,
   "metadata": {},
   "outputs": [],
   "source": [
    "L = ds_grid_ll.dyC.max().values.item()\n",
    "DT = 0.05 * L**2"
   ]
  },
  {
   "cell_type": "code",
   "execution_count": 114,
   "metadata": {},
   "outputs": [
    {
     "data": {
      "text/plain": [
       "[dask.array<rechunk-merge, shape=(2, 12960, 17280), dtype=float32, chunksize=(1, 12960, 17280), chunktype=numpy.ndarray>,\n",
       " dask.array<rechunk-merge, shape=(2, 12960, 17280), dtype=float32, chunksize=(1, 12960, 17280), chunktype=numpy.ndarray>,\n",
       " dask.array<rechunk-merge, shape=(12960, 17280), dtype=float32, chunksize=(12960, 17280), chunktype=numpy.ndarray>,\n",
       " dask.array<rechunk-merge, shape=(12960, 17280), dtype=float32, chunksize=(12960, 17280), chunktype=numpy.ndarray>,\n",
       " dask.array<rechunk-merge, shape=(12960, 17280), dtype=float32, chunksize=(12960, 17280), chunktype=numpy.ndarray>,\n",
       " dask.array<rechunk-merge, shape=(12960, 17280), dtype=float32, chunksize=(12960, 17280), chunktype=numpy.ndarray>,\n",
       " dask.array<rechunk-merge, shape=(12960, 17280), dtype=float32, chunksize=(12960, 17280), chunktype=numpy.ndarray>,\n",
       " dask.array<rechunk-merge, shape=(12960, 17280), dtype=float32, chunksize=(12960, 17280), chunktype=numpy.ndarray>,\n",
       " dask.array<pow, shape=(12960, 17280), dtype=float32, chunksize=(12960, 17280), chunktype=numpy.ndarray>,\n",
       " 1,\n",
       " dask.array<pow, shape=(12960, 17280), dtype=float32, chunksize=(12960, 17280), chunktype=numpy.ndarray>,\n",
       " 1,\n",
       " 231735.65428458454]"
      ]
     },
     "execution_count": 114,
     "metadata": {},
     "output_type": "execute_result"
    }
   ],
   "source": [
    "args = [a.data if isinstance(a, xr.DataArray) else a for a in\n",
    "        [ds_ll.U, ds_ll.U, dxF, dxV, dyF, dyU,\n",
    "         ds_grid_ll.rAw, ds_grid_ll.rAs,\n",
    "         c11, c12, c21, c22, DT]\n",
    "        ]\n",
    "args"
   ]
  },
  {
   "cell_type": "code",
   "execution_count": 127,
   "metadata": {},
   "outputs": [
    {
     "data": {
      "text/html": [
       "<table>\n",
       "<tr>\n",
       "<td>\n",
       "<table>\n",
       "  <thead>\n",
       "    <tr><td> </td><th> Array </th><th> Chunk </th></tr>\n",
       "  </thead>\n",
       "  <tbody>\n",
       "    <tr><th> Bytes </th><td> 1.79 GB </td> <td> 895.80 MB </td></tr>\n",
       "    <tr><th> Shape </th><td> (2, 12960, 17280) </td> <td> (1, 12960, 17280) </td></tr>\n",
       "    <tr><th> Count </th><td> 980 Tasks </td><td> 2 Chunks </td></tr>\n",
       "    <tr><th> Type </th><td> float32 </td><td> numpy.ndarray </td></tr>\n",
       "  </tbody>\n",
       "</table>\n",
       "</td>\n",
       "<td>\n",
       "<svg width=\"194\" height=\"154\" style=\"stroke:rgb(0,0,0);stroke-width:1\" >\n",
       "\n",
       "  <!-- Horizontal lines -->\n",
       "  <line x1=\"10\" y1=\"0\" x2=\"24\" y2=\"14\" style=\"stroke-width:2\" />\n",
       "  <line x1=\"10\" y1=\"90\" x2=\"24\" y2=\"104\" style=\"stroke-width:2\" />\n",
       "\n",
       "  <!-- Vertical lines -->\n",
       "  <line x1=\"10\" y1=\"0\" x2=\"10\" y2=\"90\" style=\"stroke-width:2\" />\n",
       "  <line x1=\"17\" y1=\"7\" x2=\"17\" y2=\"97\" />\n",
       "  <line x1=\"24\" y1=\"14\" x2=\"24\" y2=\"104\" style=\"stroke-width:2\" />\n",
       "\n",
       "  <!-- Colored Rectangle -->\n",
       "  <polygon points=\"10.000000,0.000000 24.948598,14.948598 24.948598,104.948598 10.000000,90.000000\" style=\"fill:#ECB172A0;stroke-width:0\"/>\n",
       "\n",
       "  <!-- Horizontal lines -->\n",
       "  <line x1=\"10\" y1=\"0\" x2=\"130\" y2=\"0\" style=\"stroke-width:2\" />\n",
       "  <line x1=\"17\" y1=\"7\" x2=\"137\" y2=\"7\" />\n",
       "  <line x1=\"24\" y1=\"14\" x2=\"144\" y2=\"14\" style=\"stroke-width:2\" />\n",
       "\n",
       "  <!-- Vertical lines -->\n",
       "  <line x1=\"10\" y1=\"0\" x2=\"24\" y2=\"14\" style=\"stroke-width:2\" />\n",
       "  <line x1=\"130\" y1=\"0\" x2=\"144\" y2=\"14\" style=\"stroke-width:2\" />\n",
       "\n",
       "  <!-- Colored Rectangle -->\n",
       "  <polygon points=\"10.000000,0.000000 130.000000,0.000000 144.948598,14.948598 24.948598,14.948598\" style=\"fill:#ECB172A0;stroke-width:0\"/>\n",
       "\n",
       "  <!-- Horizontal lines -->\n",
       "  <line x1=\"24\" y1=\"14\" x2=\"144\" y2=\"14\" style=\"stroke-width:2\" />\n",
       "  <line x1=\"24\" y1=\"104\" x2=\"144\" y2=\"104\" style=\"stroke-width:2\" />\n",
       "\n",
       "  <!-- Vertical lines -->\n",
       "  <line x1=\"24\" y1=\"14\" x2=\"24\" y2=\"104\" style=\"stroke-width:2\" />\n",
       "  <line x1=\"144\" y1=\"14\" x2=\"144\" y2=\"104\" style=\"stroke-width:2\" />\n",
       "\n",
       "  <!-- Colored Rectangle -->\n",
       "  <polygon points=\"24.948598,14.948598 144.948598,14.948598 144.948598,104.948598 24.948598,104.948598\" style=\"fill:#ECB172A0;stroke-width:0\"/>\n",
       "\n",
       "  <!-- Text -->\n",
       "  <text x=\"84.948598\" y=\"124.948598\" font-size=\"1.0rem\" font-weight=\"100\" text-anchor=\"middle\" >17280</text>\n",
       "  <text x=\"164.948598\" y=\"59.948598\" font-size=\"1.0rem\" font-weight=\"100\" text-anchor=\"middle\" transform=\"rotate(-90,164.948598,59.948598)\">12960</text>\n",
       "  <text x=\"7.474299\" y=\"117.474299\" font-size=\"1.0rem\" font-weight=\"100\" text-anchor=\"middle\" transform=\"rotate(45,7.474299,117.474299)\">2</text>\n",
       "</svg>\n",
       "</td>\n",
       "</tr>\n",
       "</table>"
      ],
      "text/plain": [
       "dask.array<transpose, shape=(2, 12960, 17280), dtype=float32, chunksize=(1, 12960, 17280), chunktype=numpy.ndarray>"
      ]
     },
     "execution_count": 127,
     "metadata": {},
     "output_type": "execute_result"
    }
   ],
   "source": [
    "U_sm, V_sm = smooth_gu(*args, output_dtypes=('f4', 'f4'))\n",
    "U_sm"
   ]
  },
  {
   "cell_type": "code",
   "execution_count": 128,
   "metadata": {},
   "outputs": [
    {
     "ename": "KilledWorker",
     "evalue": "(\"('smooth_gu-smooth_gu_0-mean_chunk-589841b92d1be9ce8d81b741477f1c6e', 1, 0, 0)\", <Worker 'tcp://10.32.4.5:43307', memory: 0, processing: 1>)",
     "output_type": "error",
     "traceback": [
      "\u001b[0;31m---------------------------------------------------------------------------\u001b[0m",
      "\u001b[0;31mKilledWorker\u001b[0m                              Traceback (most recent call last)",
      "\u001b[0;32m<ipython-input-128-c66fa464e55b>\u001b[0m in \u001b[0;36m<module>\u001b[0;34m\u001b[0m\n\u001b[0;32m----> 1\u001b[0;31m \u001b[0mU_sm\u001b[0m\u001b[0;34m.\u001b[0m\u001b[0mmean\u001b[0m\u001b[0;34m(\u001b[0m\u001b[0;34m)\u001b[0m\u001b[0;34m.\u001b[0m\u001b[0mcompute\u001b[0m\u001b[0;34m(\u001b[0m\u001b[0;34m)\u001b[0m\u001b[0;34m\u001b[0m\u001b[0;34m\u001b[0m\u001b[0m\n\u001b[0m",
      "\u001b[0;32m/srv/conda/envs/notebook/lib/python3.7/site-packages/dask/base.py\u001b[0m in \u001b[0;36mcompute\u001b[0;34m(self, **kwargs)\u001b[0m\n\u001b[1;32m    163\u001b[0m         \u001b[0mdask\u001b[0m\u001b[0;34m.\u001b[0m\u001b[0mbase\u001b[0m\u001b[0;34m.\u001b[0m\u001b[0mcompute\u001b[0m\u001b[0;34m\u001b[0m\u001b[0;34m\u001b[0m\u001b[0m\n\u001b[1;32m    164\u001b[0m         \"\"\"\n\u001b[0;32m--> 165\u001b[0;31m         \u001b[0;34m(\u001b[0m\u001b[0mresult\u001b[0m\u001b[0;34m,\u001b[0m\u001b[0;34m)\u001b[0m \u001b[0;34m=\u001b[0m \u001b[0mcompute\u001b[0m\u001b[0;34m(\u001b[0m\u001b[0mself\u001b[0m\u001b[0;34m,\u001b[0m \u001b[0mtraverse\u001b[0m\u001b[0;34m=\u001b[0m\u001b[0;32mFalse\u001b[0m\u001b[0;34m,\u001b[0m \u001b[0;34m**\u001b[0m\u001b[0mkwargs\u001b[0m\u001b[0;34m)\u001b[0m\u001b[0;34m\u001b[0m\u001b[0;34m\u001b[0m\u001b[0m\n\u001b[0m\u001b[1;32m    166\u001b[0m         \u001b[0;32mreturn\u001b[0m \u001b[0mresult\u001b[0m\u001b[0;34m\u001b[0m\u001b[0;34m\u001b[0m\u001b[0m\n\u001b[1;32m    167\u001b[0m \u001b[0;34m\u001b[0m\u001b[0m\n",
      "\u001b[0;32m/srv/conda/envs/notebook/lib/python3.7/site-packages/dask/base.py\u001b[0m in \u001b[0;36mcompute\u001b[0;34m(*args, **kwargs)\u001b[0m\n\u001b[1;32m    434\u001b[0m     \u001b[0mkeys\u001b[0m \u001b[0;34m=\u001b[0m \u001b[0;34m[\u001b[0m\u001b[0mx\u001b[0m\u001b[0;34m.\u001b[0m\u001b[0m__dask_keys__\u001b[0m\u001b[0;34m(\u001b[0m\u001b[0;34m)\u001b[0m \u001b[0;32mfor\u001b[0m \u001b[0mx\u001b[0m \u001b[0;32min\u001b[0m \u001b[0mcollections\u001b[0m\u001b[0;34m]\u001b[0m\u001b[0;34m\u001b[0m\u001b[0;34m\u001b[0m\u001b[0m\n\u001b[1;32m    435\u001b[0m     \u001b[0mpostcomputes\u001b[0m \u001b[0;34m=\u001b[0m \u001b[0;34m[\u001b[0m\u001b[0mx\u001b[0m\u001b[0;34m.\u001b[0m\u001b[0m__dask_postcompute__\u001b[0m\u001b[0;34m(\u001b[0m\u001b[0;34m)\u001b[0m \u001b[0;32mfor\u001b[0m \u001b[0mx\u001b[0m \u001b[0;32min\u001b[0m \u001b[0mcollections\u001b[0m\u001b[0;34m]\u001b[0m\u001b[0;34m\u001b[0m\u001b[0;34m\u001b[0m\u001b[0m\n\u001b[0;32m--> 436\u001b[0;31m     \u001b[0mresults\u001b[0m \u001b[0;34m=\u001b[0m \u001b[0mschedule\u001b[0m\u001b[0;34m(\u001b[0m\u001b[0mdsk\u001b[0m\u001b[0;34m,\u001b[0m \u001b[0mkeys\u001b[0m\u001b[0;34m,\u001b[0m \u001b[0;34m**\u001b[0m\u001b[0mkwargs\u001b[0m\u001b[0;34m)\u001b[0m\u001b[0;34m\u001b[0m\u001b[0;34m\u001b[0m\u001b[0m\n\u001b[0m\u001b[1;32m    437\u001b[0m     \u001b[0;32mreturn\u001b[0m \u001b[0mrepack\u001b[0m\u001b[0;34m(\u001b[0m\u001b[0;34m[\u001b[0m\u001b[0mf\u001b[0m\u001b[0;34m(\u001b[0m\u001b[0mr\u001b[0m\u001b[0;34m,\u001b[0m \u001b[0;34m*\u001b[0m\u001b[0ma\u001b[0m\u001b[0;34m)\u001b[0m \u001b[0;32mfor\u001b[0m \u001b[0mr\u001b[0m\u001b[0;34m,\u001b[0m \u001b[0;34m(\u001b[0m\u001b[0mf\u001b[0m\u001b[0;34m,\u001b[0m \u001b[0ma\u001b[0m\u001b[0;34m)\u001b[0m \u001b[0;32min\u001b[0m \u001b[0mzip\u001b[0m\u001b[0;34m(\u001b[0m\u001b[0mresults\u001b[0m\u001b[0;34m,\u001b[0m \u001b[0mpostcomputes\u001b[0m\u001b[0;34m)\u001b[0m\u001b[0;34m]\u001b[0m\u001b[0;34m)\u001b[0m\u001b[0;34m\u001b[0m\u001b[0;34m\u001b[0m\u001b[0m\n\u001b[1;32m    438\u001b[0m \u001b[0;34m\u001b[0m\u001b[0m\n",
      "\u001b[0;32m/srv/conda/envs/notebook/lib/python3.7/site-packages/distributed/client.py\u001b[0m in \u001b[0;36mget\u001b[0;34m(self, dsk, keys, restrictions, loose_restrictions, resources, sync, asynchronous, direct, retries, priority, fifo_timeout, actors, **kwargs)\u001b[0m\n\u001b[1;32m   2537\u001b[0m                     \u001b[0mshould_rejoin\u001b[0m \u001b[0;34m=\u001b[0m \u001b[0;32mFalse\u001b[0m\u001b[0;34m\u001b[0m\u001b[0;34m\u001b[0m\u001b[0m\n\u001b[1;32m   2538\u001b[0m             \u001b[0;32mtry\u001b[0m\u001b[0;34m:\u001b[0m\u001b[0;34m\u001b[0m\u001b[0;34m\u001b[0m\u001b[0m\n\u001b[0;32m-> 2539\u001b[0;31m                 \u001b[0mresults\u001b[0m \u001b[0;34m=\u001b[0m \u001b[0mself\u001b[0m\u001b[0;34m.\u001b[0m\u001b[0mgather\u001b[0m\u001b[0;34m(\u001b[0m\u001b[0mpacked\u001b[0m\u001b[0;34m,\u001b[0m \u001b[0masynchronous\u001b[0m\u001b[0;34m=\u001b[0m\u001b[0masynchronous\u001b[0m\u001b[0;34m,\u001b[0m \u001b[0mdirect\u001b[0m\u001b[0;34m=\u001b[0m\u001b[0mdirect\u001b[0m\u001b[0;34m)\u001b[0m\u001b[0;34m\u001b[0m\u001b[0;34m\u001b[0m\u001b[0m\n\u001b[0m\u001b[1;32m   2540\u001b[0m             \u001b[0;32mfinally\u001b[0m\u001b[0;34m:\u001b[0m\u001b[0;34m\u001b[0m\u001b[0;34m\u001b[0m\u001b[0m\n\u001b[1;32m   2541\u001b[0m                 \u001b[0;32mfor\u001b[0m \u001b[0mf\u001b[0m \u001b[0;32min\u001b[0m \u001b[0mfutures\u001b[0m\u001b[0;34m.\u001b[0m\u001b[0mvalues\u001b[0m\u001b[0;34m(\u001b[0m\u001b[0;34m)\u001b[0m\u001b[0;34m:\u001b[0m\u001b[0;34m\u001b[0m\u001b[0;34m\u001b[0m\u001b[0m\n",
      "\u001b[0;32m/srv/conda/envs/notebook/lib/python3.7/site-packages/distributed/client.py\u001b[0m in \u001b[0;36mgather\u001b[0;34m(self, futures, errors, direct, asynchronous)\u001b[0m\n\u001b[1;32m   1837\u001b[0m                 \u001b[0mdirect\u001b[0m\u001b[0;34m=\u001b[0m\u001b[0mdirect\u001b[0m\u001b[0;34m,\u001b[0m\u001b[0;34m\u001b[0m\u001b[0;34m\u001b[0m\u001b[0m\n\u001b[1;32m   1838\u001b[0m                 \u001b[0mlocal_worker\u001b[0m\u001b[0;34m=\u001b[0m\u001b[0mlocal_worker\u001b[0m\u001b[0;34m,\u001b[0m\u001b[0;34m\u001b[0m\u001b[0;34m\u001b[0m\u001b[0m\n\u001b[0;32m-> 1839\u001b[0;31m                 \u001b[0masynchronous\u001b[0m\u001b[0;34m=\u001b[0m\u001b[0masynchronous\u001b[0m\u001b[0;34m,\u001b[0m\u001b[0;34m\u001b[0m\u001b[0;34m\u001b[0m\u001b[0m\n\u001b[0m\u001b[1;32m   1840\u001b[0m             )\n\u001b[1;32m   1841\u001b[0m \u001b[0;34m\u001b[0m\u001b[0m\n",
      "\u001b[0;32m/srv/conda/envs/notebook/lib/python3.7/site-packages/distributed/client.py\u001b[0m in \u001b[0;36msync\u001b[0;34m(self, func, asynchronous, callback_timeout, *args, **kwargs)\u001b[0m\n\u001b[1;32m    754\u001b[0m         \u001b[0;32melse\u001b[0m\u001b[0;34m:\u001b[0m\u001b[0;34m\u001b[0m\u001b[0;34m\u001b[0m\u001b[0m\n\u001b[1;32m    755\u001b[0m             return sync(\n\u001b[0;32m--> 756\u001b[0;31m                 \u001b[0mself\u001b[0m\u001b[0;34m.\u001b[0m\u001b[0mloop\u001b[0m\u001b[0;34m,\u001b[0m \u001b[0mfunc\u001b[0m\u001b[0;34m,\u001b[0m \u001b[0;34m*\u001b[0m\u001b[0margs\u001b[0m\u001b[0;34m,\u001b[0m \u001b[0mcallback_timeout\u001b[0m\u001b[0;34m=\u001b[0m\u001b[0mcallback_timeout\u001b[0m\u001b[0;34m,\u001b[0m \u001b[0;34m**\u001b[0m\u001b[0mkwargs\u001b[0m\u001b[0;34m\u001b[0m\u001b[0;34m\u001b[0m\u001b[0m\n\u001b[0m\u001b[1;32m    757\u001b[0m             )\n\u001b[1;32m    758\u001b[0m \u001b[0;34m\u001b[0m\u001b[0m\n",
      "\u001b[0;32m/srv/conda/envs/notebook/lib/python3.7/site-packages/distributed/utils.py\u001b[0m in \u001b[0;36msync\u001b[0;34m(loop, func, callback_timeout, *args, **kwargs)\u001b[0m\n\u001b[1;32m    331\u001b[0m     \u001b[0;32mif\u001b[0m \u001b[0merror\u001b[0m\u001b[0;34m[\u001b[0m\u001b[0;36m0\u001b[0m\u001b[0;34m]\u001b[0m\u001b[0;34m:\u001b[0m\u001b[0;34m\u001b[0m\u001b[0;34m\u001b[0m\u001b[0m\n\u001b[1;32m    332\u001b[0m         \u001b[0mtyp\u001b[0m\u001b[0;34m,\u001b[0m \u001b[0mexc\u001b[0m\u001b[0;34m,\u001b[0m \u001b[0mtb\u001b[0m \u001b[0;34m=\u001b[0m \u001b[0merror\u001b[0m\u001b[0;34m[\u001b[0m\u001b[0;36m0\u001b[0m\u001b[0;34m]\u001b[0m\u001b[0;34m\u001b[0m\u001b[0;34m\u001b[0m\u001b[0m\n\u001b[0;32m--> 333\u001b[0;31m         \u001b[0;32mraise\u001b[0m \u001b[0mexc\u001b[0m\u001b[0;34m.\u001b[0m\u001b[0mwith_traceback\u001b[0m\u001b[0;34m(\u001b[0m\u001b[0mtb\u001b[0m\u001b[0;34m)\u001b[0m\u001b[0;34m\u001b[0m\u001b[0;34m\u001b[0m\u001b[0m\n\u001b[0m\u001b[1;32m    334\u001b[0m     \u001b[0;32melse\u001b[0m\u001b[0;34m:\u001b[0m\u001b[0;34m\u001b[0m\u001b[0;34m\u001b[0m\u001b[0m\n\u001b[1;32m    335\u001b[0m         \u001b[0;32mreturn\u001b[0m \u001b[0mresult\u001b[0m\u001b[0;34m[\u001b[0m\u001b[0;36m0\u001b[0m\u001b[0;34m]\u001b[0m\u001b[0;34m\u001b[0m\u001b[0;34m\u001b[0m\u001b[0m\n",
      "\u001b[0;32m/srv/conda/envs/notebook/lib/python3.7/site-packages/distributed/utils.py\u001b[0m in \u001b[0;36mf\u001b[0;34m()\u001b[0m\n\u001b[1;32m    315\u001b[0m             \u001b[0;32mif\u001b[0m \u001b[0mcallback_timeout\u001b[0m \u001b[0;32mis\u001b[0m \u001b[0;32mnot\u001b[0m \u001b[0;32mNone\u001b[0m\u001b[0;34m:\u001b[0m\u001b[0;34m\u001b[0m\u001b[0;34m\u001b[0m\u001b[0m\n\u001b[1;32m    316\u001b[0m                 \u001b[0mfuture\u001b[0m \u001b[0;34m=\u001b[0m \u001b[0mgen\u001b[0m\u001b[0;34m.\u001b[0m\u001b[0mwith_timeout\u001b[0m\u001b[0;34m(\u001b[0m\u001b[0mtimedelta\u001b[0m\u001b[0;34m(\u001b[0m\u001b[0mseconds\u001b[0m\u001b[0;34m=\u001b[0m\u001b[0mcallback_timeout\u001b[0m\u001b[0;34m)\u001b[0m\u001b[0;34m,\u001b[0m \u001b[0mfuture\u001b[0m\u001b[0;34m)\u001b[0m\u001b[0;34m\u001b[0m\u001b[0;34m\u001b[0m\u001b[0m\n\u001b[0;32m--> 317\u001b[0;31m             \u001b[0mresult\u001b[0m\u001b[0;34m[\u001b[0m\u001b[0;36m0\u001b[0m\u001b[0;34m]\u001b[0m \u001b[0;34m=\u001b[0m \u001b[0;32myield\u001b[0m \u001b[0mfuture\u001b[0m\u001b[0;34m\u001b[0m\u001b[0;34m\u001b[0m\u001b[0m\n\u001b[0m\u001b[1;32m    318\u001b[0m         \u001b[0;32mexcept\u001b[0m \u001b[0mException\u001b[0m \u001b[0;32mas\u001b[0m \u001b[0mexc\u001b[0m\u001b[0;34m:\u001b[0m\u001b[0;34m\u001b[0m\u001b[0;34m\u001b[0m\u001b[0m\n\u001b[1;32m    319\u001b[0m             \u001b[0merror\u001b[0m\u001b[0;34m[\u001b[0m\u001b[0;36m0\u001b[0m\u001b[0;34m]\u001b[0m \u001b[0;34m=\u001b[0m \u001b[0msys\u001b[0m\u001b[0;34m.\u001b[0m\u001b[0mexc_info\u001b[0m\u001b[0;34m(\u001b[0m\u001b[0;34m)\u001b[0m\u001b[0;34m\u001b[0m\u001b[0;34m\u001b[0m\u001b[0m\n",
      "\u001b[0;32m/srv/conda/envs/notebook/lib/python3.7/site-packages/tornado/gen.py\u001b[0m in \u001b[0;36mrun\u001b[0;34m(self)\u001b[0m\n\u001b[1;32m    733\u001b[0m \u001b[0;34m\u001b[0m\u001b[0m\n\u001b[1;32m    734\u001b[0m                     \u001b[0;32mtry\u001b[0m\u001b[0;34m:\u001b[0m\u001b[0;34m\u001b[0m\u001b[0;34m\u001b[0m\u001b[0m\n\u001b[0;32m--> 735\u001b[0;31m                         \u001b[0mvalue\u001b[0m \u001b[0;34m=\u001b[0m \u001b[0mfuture\u001b[0m\u001b[0;34m.\u001b[0m\u001b[0mresult\u001b[0m\u001b[0;34m(\u001b[0m\u001b[0;34m)\u001b[0m\u001b[0;34m\u001b[0m\u001b[0;34m\u001b[0m\u001b[0m\n\u001b[0m\u001b[1;32m    736\u001b[0m                     \u001b[0;32mexcept\u001b[0m \u001b[0mException\u001b[0m\u001b[0;34m:\u001b[0m\u001b[0;34m\u001b[0m\u001b[0;34m\u001b[0m\u001b[0m\n\u001b[1;32m    737\u001b[0m                         \u001b[0mexc_info\u001b[0m \u001b[0;34m=\u001b[0m \u001b[0msys\u001b[0m\u001b[0;34m.\u001b[0m\u001b[0mexc_info\u001b[0m\u001b[0;34m(\u001b[0m\u001b[0;34m)\u001b[0m\u001b[0;34m\u001b[0m\u001b[0;34m\u001b[0m\u001b[0m\n",
      "\u001b[0;32m/srv/conda/envs/notebook/lib/python3.7/site-packages/distributed/client.py\u001b[0m in \u001b[0;36m_gather\u001b[0;34m(self, futures, errors, direct, local_worker)\u001b[0m\n\u001b[1;32m   1693\u001b[0m                             \u001b[0mexc\u001b[0m \u001b[0;34m=\u001b[0m \u001b[0mCancelledError\u001b[0m\u001b[0;34m(\u001b[0m\u001b[0mkey\u001b[0m\u001b[0;34m)\u001b[0m\u001b[0;34m\u001b[0m\u001b[0;34m\u001b[0m\u001b[0m\n\u001b[1;32m   1694\u001b[0m                         \u001b[0;32melse\u001b[0m\u001b[0;34m:\u001b[0m\u001b[0;34m\u001b[0m\u001b[0;34m\u001b[0m\u001b[0m\n\u001b[0;32m-> 1695\u001b[0;31m                             \u001b[0;32mraise\u001b[0m \u001b[0mexception\u001b[0m\u001b[0;34m.\u001b[0m\u001b[0mwith_traceback\u001b[0m\u001b[0;34m(\u001b[0m\u001b[0mtraceback\u001b[0m\u001b[0;34m)\u001b[0m\u001b[0;34m\u001b[0m\u001b[0;34m\u001b[0m\u001b[0m\n\u001b[0m\u001b[1;32m   1696\u001b[0m                         \u001b[0;32mraise\u001b[0m \u001b[0mexc\u001b[0m\u001b[0;34m\u001b[0m\u001b[0;34m\u001b[0m\u001b[0m\n\u001b[1;32m   1697\u001b[0m                     \u001b[0;32mif\u001b[0m \u001b[0merrors\u001b[0m \u001b[0;34m==\u001b[0m \u001b[0;34m\"skip\"\u001b[0m\u001b[0;34m:\u001b[0m\u001b[0;34m\u001b[0m\u001b[0;34m\u001b[0m\u001b[0m\n",
      "\u001b[0;31mKilledWorker\u001b[0m: (\"('smooth_gu-smooth_gu_0-mean_chunk-589841b92d1be9ce8d81b741477f1c6e', 1, 0, 0)\", <Worker 'tcp://10.32.4.5:43307', memory: 0, processing: 1>)"
     ]
    }
   ],
   "source": [
    "U_sm.mean().compute()"
   ]
  },
  {
   "cell_type": "code",
   "execution_count": null,
   "metadata": {},
   "outputs": [],
   "source": [
    "@numba.guvectorize(\n",
    "    [(numba.int8[:, :], numba.int8[:, :])],\n",
    "    '(n, m) -> (n, m)'\n",
    ")"
   ]
  },
  {
   "cell_type": "code",
   "execution_count": 20,
   "metadata": {},
   "outputs": [
    {
     "data": {
      "text/plain": [
       "CPUDispatcher(<function iterate_numba at 0x7f22b3fa0d90>)"
      ]
     },
     "execution_count": 20,
     "metadata": {},
     "output_type": "execute_result"
    }
   ],
   "source": [
    "iterate_numba"
   ]
  },
  {
   "cell_type": "code",
   "execution_count": 17,
   "metadata": {},
   "outputs": [
    {
     "data": {
      "text/plain": [
       "<xarray.DataArray 'YC' (face: 13, j: 4320, i: 4320)>\n",
       "dask.array<pow, shape=(13, 4320, 4320), dtype=float32, chunksize=(1, 4320, 4320), chunktype=numpy.ndarray>\n",
       "Coordinates:\n",
       "  * face     (face) int64 0 1 2 3 4 5 6 7 8 9 10 11 12\n",
       "  * i        (i) int64 0 1 2 3 4 5 6 7 ... 4313 4314 4315 4316 4317 4318 4319\n",
       "  * j        (j) int64 0 1 2 3 4 5 6 7 ... 4313 4314 4315 4316 4317 4318 4319"
      ]
     },
     "execution_count": 17,
     "metadata": {},
     "output_type": "execute_result"
    }
   ],
   "source": [
    "# coefficients\n",
    "Ah = 1\n",
    "c11 = np.cos(np.deg2rad(ds_grid.YC))**(3/2)\n",
    "c21 = np.cos(np.deg2rad(ds_grid.YG))**(3/2)\n",
    "c12 = c22 = 1"
   ]
  },
  {
   "cell_type": "code",
   "execution_count": null,
   "metadata": {},
   "outputs": [],
   "source": [
    "iterate_numba()"
   ]
  },
  {
   "cell_type": "code",
   "execution_count": 30,
   "metadata": {},
   "outputs": [
    {
     "data": {
      "text/plain": [
       "<xgcm.Grid>\n",
       "Y Axis (periodic):\n",
       "  * center   j --> left\n",
       "  * left     j_g --> center\n",
       "T Axis (not periodic):\n",
       "  * center   time\n",
       "X Axis (periodic):\n",
       "  * center   i --> left\n",
       "  * left     i_g --> center"
      ]
     },
     "execution_count": 30,
     "metadata": {},
     "output_type": "execute_result"
    }
   ],
   "source": [
    "import xgcm\n",
    "grid = xgcm.Grid(ds_ll, periodic=['X', 'Y'])\n",
    "grid"
   ]
  },
  {
   "cell_type": "code",
   "execution_count": 46,
   "metadata": {},
   "outputs": [
    {
     "name": "stdout",
     "output_type": "stream",
     "text": [
      "CPU times: user 34.4 ms, sys: 3.56 ms, total: 38 ms\n",
      "Wall time: 4.27 s\n"
     ]
    },
    {
     "data": {
      "text/plain": [
       "<xarray.DataArray 'U' ()>\n",
       "array(0.00656977, dtype=float32)"
      ]
     },
     "execution_count": 46,
     "metadata": {},
     "output_type": "execute_result"
    }
   ],
   "source": [
    "%time ds.U.mean().load()"
   ]
  },
  {
   "cell_type": "code",
   "execution_count": 10,
   "metadata": {},
   "outputs": [
    {
     "data": {
      "text/plain": [
       "<xarray.DataArray (time: 5, face: 13, j_g: 4320, i_g: 4320)>\n",
       "dask.array<truediv, shape=(5, 13, 4320, 4320), dtype=float32, chunksize=(1, 1, 4319, 4319), chunktype=numpy.ndarray>\n",
       "Coordinates:\n",
       "  * time     (time) datetime64[ns] 2011-09-13 ... 2011-09-13T04:00:00\n",
       "  * face     (face) int64 0 1 2 3 4 5 6 7 8 9 10 11 12\n",
       "  * j_g      (j_g) int64 0 1 2 3 4 5 6 7 ... 4313 4314 4315 4316 4317 4318 4319\n",
       "  * i_g      (i_g) int64 0 1 2 3 4 5 6 7 ... 4313 4314 4315 4316 4317 4318 4319"
      ]
     },
     "execution_count": 10,
     "metadata": {},
     "output_type": "execute_result"
    }
   ],
   "source": [
    "zeta = (-grid.diff(ds.U * ds_grid.dxC, 'Y', boundary='extend') +\n",
    "         grid.diff(ds.V * ds_grid.dyC, 'X', boundary='extend')) / ds_grid.rAz\n",
    "zeta"
   ]
  },
  {
   "cell_type": "code",
   "execution_count": 24,
   "metadata": {},
   "outputs": [
    {
     "data": {
      "text/plain": [
       "<xarray.DataArray (time: 5, face: 13, j: 4320, i: 4320)>\n",
       "dask.array<truediv, shape=(5, 13, 4320, 4320), dtype=float32, chunksize=(1, 1, 4319, 4319), chunktype=numpy.ndarray>\n",
       "Coordinates:\n",
       "  * time     (time) datetime64[ns] 2011-09-13 ... 2011-09-13T04:00:00\n",
       "  * face     (face) int64 0 1 2 3 4 5 6 7 8 9 10 11 12\n",
       "  * j        (j) int64 0 1 2 3 4 5 6 7 ... 4313 4314 4315 4316 4317 4318 4319\n",
       "  * i        (i) int64 0 1 2 3 4 5 6 7 ... 4313 4314 4315 4316 4317 4318 4319"
      ]
     },
     "execution_count": 24,
     "metadata": {},
     "output_type": "execute_result"
    }
   ],
   "source": [
    "# divergence\n",
    "\n",
    "div_uv = (grid.diff(ds.U * ds_grid.dyG, 'X', boundary='extend') + \n",
    "          grid.diff(ds.V * ds_grid.dxG, 'Y', boundary='extend')) / ds_grid.rA\n",
    "div_uv"
   ]
  },
  {
   "cell_type": "code",
   "execution_count": 31,
   "metadata": {},
   "outputs": [
    {
     "data": {
      "text/plain": [
       "<xarray.DataArray (time: 5, face: 13, j_g: 4320, i_g: 4320)>\n",
       "dask.array<rechunk-merge, shape=(5, 13, 4320, 4320), dtype=float32, chunksize=(1, 1, 4319, 4320), chunktype=numpy.ndarray>\n",
       "Coordinates:\n",
       "  * time     (time) datetime64[ns] 2011-09-13 ... 2011-09-13T04:00:00\n",
       "  * face     (face) int64 0 1 2 3 4 5 6 7 8 9 10 11 12\n",
       "  * j_g      (j_g) int64 0 1 2 3 4 5 6 7 ... 4313 4314 4315 4316 4317 4318 4319\n",
       "  * i_g      (i_g) int64 0 1 2 3 4 5 6 7 ... 4313 4314 4315 4316 4317 4318 4319"
      ]
     },
     "execution_count": 31,
     "metadata": {},
     "output_type": "execute_result"
    }
   ],
   "source": [
    "zeta.chunk({'i_g': 4320})"
   ]
  },
  {
   "cell_type": "code",
   "execution_count": 40,
   "metadata": {},
   "outputs": [
    {
     "data": {
      "text/plain": [
       "<xarray.DataArray 'histogram_vorticity_divergence' (time: 5, vorticity_bin: 99, divergence_bin: 99)>\n",
       "dask.array<getitem, shape=(5, 99, 99), dtype=int64, chunksize=(1, 99, 99), chunktype=numpy.ndarray>\n",
       "Coordinates:\n",
       "  * time            (time) datetime64[ns] 2011-09-13 ... 2011-09-13T04:00:00\n",
       "  * vorticity_bin   (vorticity_bin) float64 -9.899e-05 -9.697e-05 ... 9.899e-05\n",
       "  * divergence_bin  (divergence_bin) float64 -9.899e-05 -9.697e-05 ... 9.899e-05"
      ]
     },
     "execution_count": 40,
     "metadata": {},
     "output_type": "execute_result"
    }
   ],
   "source": [
    "from xhistogram.xarray import histogram\n",
    "\n",
    "vort_bins = np.linspace(-1e-4, 1e-4, 100)\n",
    "div_bins = np.linspace(-1e-4, 1e-4, 100)\n",
    "\n",
    "# need to rechunk to uniform size\n",
    "chunks = {'i': 4320, 'j': 4320}\n",
    "\n",
    "vort_div_hist = histogram(zeta.rename('vorticity').rename({'j_g': 'j', 'i_g': 'i'}).chunk(chunks),\n",
    "                          div_uv.rename('divergence').chunk(chunks),\n",
    "                          bins=[vort_bins, div_bins],\n",
    "                          dim=['i', 'j', 'face'])\n",
    "vort_div_hist"
   ]
  },
  {
   "cell_type": "code",
   "execution_count": 41,
   "metadata": {},
   "outputs": [
    {
     "data": {
      "text/plain": [
       "<xarray.DataArray 'histogram_vorticity_divergence' (time: 5, vorticity_bin: 99, divergence_bin: 99)>\n",
       "array([[[29, 39, 42, ..., 23, 17, 20],\n",
       "        [41, 46, 45, ..., 21, 23, 11],\n",
       "        [46, 41, 36, ..., 21, 22, 25],\n",
       "        ...,\n",
       "        [38, 30, 37, ..., 15, 34, 27],\n",
       "        [32, 32, 31, ..., 32, 25, 22],\n",
       "        [31, 34, 34, ..., 23, 21, 23]],\n",
       "\n",
       "       [[29, 44, 42, ..., 25, 19, 25],\n",
       "        [43, 43, 38, ..., 29, 34, 22],\n",
       "        [28, 46, 44, ..., 28, 28, 18],\n",
       "        ...,\n",
       "        [32, 37, 32, ..., 30, 27, 17],\n",
       "        [29, 30, 37, ..., 23, 30, 22],\n",
       "        [30, 32, 36, ..., 31, 32, 17]],\n",
       "\n",
       "       [[27, 42, 39, ..., 15, 20, 20],\n",
       "        [31, 35, 43, ..., 26, 31, 22],\n",
       "        [47, 36, 50, ..., 37, 24, 24],\n",
       "        ...,\n",
       "        [26, 31, 37, ..., 29, 19, 19],\n",
       "        [37, 31, 33, ..., 27, 26, 27],\n",
       "        [23, 39, 33, ..., 26, 21, 25]],\n",
       "\n",
       "       [[24, 39, 45, ..., 19, 20, 24],\n",
       "        [29, 34, 52, ..., 18, 17, 30],\n",
       "        [31, 41, 48, ..., 26, 21, 17],\n",
       "        ...,\n",
       "        [25, 40, 24, ..., 28, 25, 30],\n",
       "        [33, 29, 39, ..., 31, 28, 16],\n",
       "        [27, 27, 31, ..., 25, 25, 21]],\n",
       "\n",
       "       [[45, 36, 41, ..., 29, 21, 26],\n",
       "        [37, 39, 54, ..., 37, 19, 30],\n",
       "        [45, 48, 65, ..., 23, 25, 22],\n",
       "        ...,\n",
       "        [31, 40, 36, ..., 20, 24, 27],\n",
       "        [29, 25, 31, ..., 18, 21, 27],\n",
       "        [30, 28, 40, ..., 35, 21, 19]]])\n",
       "Coordinates:\n",
       "  * time            (time) datetime64[ns] 2011-09-13 ... 2011-09-13T04:00:00\n",
       "  * vorticity_bin   (vorticity_bin) float64 -9.899e-05 -9.697e-05 ... 9.899e-05\n",
       "  * divergence_bin  (divergence_bin) float64 -9.899e-05 -9.697e-05 ... 9.899e-05"
      ]
     },
     "execution_count": 41,
     "metadata": {},
     "output_type": "execute_result"
    }
   ],
   "source": [
    "vort_div_hist.load()"
   ]
  },
  {
   "cell_type": "code",
   "execution_count": 36,
   "metadata": {},
   "outputs": [
    {
     "data": {
      "text/plain": [
       "<matplotlib.collections.QuadMesh at 0x7fcdc0982048>"
      ]
     },
     "execution_count": 36,
     "metadata": {},
     "output_type": "execute_result"
    },
    {
     "data": {
      "image/png": "[encoded data removed]",
      "text/plain": [
       "<Figure size 432x288 with 2 Axes>"
      ]
     },
     "metadata": {
      "needs_background": "light"
     },
     "output_type": "display_data"
    }
   ],
   "source": [
    "from matplotlib.colors import LogNorm\n",
    "vort_div_hist.mean(dim='time').plot(norm=LogNorm())"
   ]
  },
  {
   "cell_type": "code",
   "execution_count": 13,
   "metadata": {},
   "outputs": [
    {
     "data": {
      "text/plain": [
       "['U', 'face', 'i_g', 'j', 'time']"
      ]
     },
     "execution_count": 13,
     "metadata": {},
     "output_type": "execute_result"
    }
   ],
   "source": [
    "import zarr\n",
    "import gcsfs\n",
    "gcs = gcsfs.GCSFileSystem(token='anon')\n",
    "zgroup = zarr.open_consolidated(gcs.get_mapper(\"gcs://pangeo-data/llc4320_surface/U\"))\n",
    "list(zgroup.keys())"
   ]
  },
  {
   "cell_type": "code",
   "execution_count": 14,
   "metadata": {},
   "outputs": [
    {
     "data": {
      "text/html": [
       "<table class=\"zarr-info\"><tbody><tr><th style=\"text-align: left\">Name</th><td style=\"text-align: left\">/U</td></tr><tr><th style=\"text-align: left\">Type</th><td style=\"text-align: left\">zarr.core.Array</td></tr><tr><th style=\"text-align: left\">Data type</th><td style=\"text-align: left\">>f4</td></tr><tr><th style=\"text-align: left\">Shape</th><td style=\"text-align: left\">(9030, 13, 4320, 4320)</td></tr><tr><th style=\"text-align: left\">Chunk shape</th><td style=\"text-align: left\">(1, 1, 4320, 4320)</td></tr><tr><th style=\"text-align: left\">Order</th><td style=\"text-align: left\">C</td></tr><tr><th style=\"text-align: left\">Read-only</th><td style=\"text-align: left\">False</td></tr><tr><th style=\"text-align: left\">Compressor</th><td style=\"text-align: left\">Blosc(cname='zstd', clevel=3, shuffle=BITSHUFFLE, blocksize=0)</td></tr><tr><th style=\"text-align: left\">Store type</th><td style=\"text-align: left\">zarr.storage.ConsolidatedMetadataStore</td></tr><tr><th style=\"text-align: left\">Chunk store type</th><td style=\"text-align: left\">fsspec.mapping.FSMap</td></tr><tr><th style=\"text-align: left\">No. bytes</th><td style=\"text-align: left\">8763116544000 (8.0T)</td></tr><tr><th style=\"text-align: left\">Chunks initialized</th><td style=\"text-align: left\">117390/117390</td></tr></tbody></table>"
      ],
      "text/plain": [
       "Name               : /U\n",
       "Type               : zarr.core.Array\n",
       "Data type          : >f4\n",
       "Shape              : (9030, 13, 4320, 4320)\n",
       "Chunk shape        : (1, 1, 4320, 4320)\n",
       "Order              : C\n",
       "Read-only          : False\n",
       "Compressor         : Blosc(cname='zstd', clevel=3, shuffle=BITSHUFFLE,\n",
       "                   : blocksize=0)\n",
       "Store type         : zarr.storage.ConsolidatedMetadataStore\n",
       "Chunk store type   : fsspec.mapping.FSMap\n",
       "No. bytes          : 8763116544000 (8.0T)\n",
       "Chunks initialized : 117390/117390"
      ]
     },
     "execution_count": 14,
     "metadata": {},
     "output_type": "execute_result"
    }
   ],
   "source": [
    "zgroup['U'].info"
   ]
  },
  {
   "cell_type": "code",
   "execution_count": 44,
   "metadata": {},
   "outputs": [
    {
     "data": {
      "text/plain": [
       "9.704586384"
      ]
     },
     "execution_count": 44,
     "metadata": {},
     "output_type": "execute_result"
    }
   ],
   "source": [
    "ds.nbytes/1e9"
   ]
  },
  {
   "cell_type": "code",
   "execution_count": 8,
   "metadata": {},
   "outputs": [
    {
     "data": {
      "text/plain": [
       "<xarray.DataArray 'mask' (face: 13, j: 4320, i: 4320)>\n",
       "dask.array<shape=(13, 4320, 4320), dtype=bool, chunksize=(1, 4320, 4320)>\n",
       "Coordinates:\n",
       "  * face     (face) int64 0 1 2 3 4 5 6 7 8 9 10 11 12\n",
       "  * i        (i) int64 0 1 2 3 4 5 6 7 ... 4313 4314 4315 4316 4317 4318 4319\n",
       "  * j        (j) int64 0 1 2 3 4 5 6 7 ... 4313 4314 4315 4316 4317 4318 4319"
      ]
     },
     "execution_count": 8,
     "metadata": {},
     "output_type": "execute_result"
    }
   ],
   "source": [
    "# Note that we don't actually use this mask to subset the data.\n",
    "# It turns out that the additional complexity involved in masking is greater than the\n",
    "# overhead of just computing the FFT for the land points!\n",
    "mask = ((ds_grid.hFacW.rename({'i_g': 'i'}) == 1) &\n",
    "        (ds_grid.hFacS.rename({'j_g': 'j'}) == 1)\n",
    "       ).rename('mask')\n",
    "mask"
   ]
  },
  {
   "cell_type": "markdown",
   "metadata": {},
   "source": [
    "### Reshape and Rechunk Data\n",
    "\n",
    "Here I take the 4D (time, face, j, i) data and turn it into a 2D dataset with dimensions (time, point).\n",
    "Then I subset only the wet points.\n",
    "Then I chunk the dataset into manageable pieces. Each of these chunks will be used for an individual in-memory FFT calculation."
   ]
  },
  {
   "cell_type": "code",
   "execution_count": 24,
   "metadata": {},
   "outputs": [
    {
     "data": {
      "text/plain": [
       "4320"
      ]
     },
     "execution_count": 24,
     "metadata": {},
     "output_type": "execute_result"
    }
   ],
   "source": [
    "24*180"
   ]
  },
  {
   "cell_type": "code",
   "execution_count": 18,
   "metadata": {},
   "outputs": [
    {
     "name": "stderr",
     "output_type": "stream",
     "text": [
      "distributed.utils_perf - WARNING - full garbage collections took 17% CPU time recently (threshold: 10%)\n",
      "distributed.utils_perf - WARNING - full garbage collections took 17% CPU time recently (threshold: 10%)\n",
      "distributed.utils_perf - WARNING - full garbage collections took 17% CPU time recently (threshold: 10%)\n"
     ]
    },
    {
     "data": {
      "text/plain": [
       "<xarray.Dataset>\n",
       "Dimensions:  (point: 3790800, time: 8640)\n",
       "Coordinates:\n",
       "  * time     (time) datetime64[ns] 2011-09-13 ... 2012-09-06T23:00:00\n",
       "  * point    (point) MultiIndex\n",
       "  - face     (point) int64 0 0 0 0 0 0 0 0 0 0 0 0 0 ... 0 0 0 0 0 0 0 0 0 0 0 0\n",
       "  - j        (point) int64 0 0 0 0 0 0 0 0 0 0 0 0 0 ... 0 0 0 0 0 0 0 0 0 0 0 0\n",
       "  - i        (point) int64 0 8 16 24 32 40 48 56 ... 184 192 200 208 216 224 232\n",
       "Data variables:\n",
       "    XC       (point) float32 dask.array<shape=(3790800,), chunksize=(500000,)>\n",
       "    YC       (point) float32 dask.array<shape=(3790800,), chunksize=(500000,)>\n",
       "    CS       (point) float32 dask.array<shape=(3790800,), chunksize=(500000,)>\n",
       "    SN       (point) float32 dask.array<shape=(3790800,), chunksize=(500000,)>\n",
       "    mask     (point) bool dask.array<shape=(3790800,), chunksize=(500000,)>\n",
       "    U        (time, point) float32 dask.array<shape=(8640, 3790800), chunksize=(1440, 500000)>\n",
       "    V        (time, point) float32 dask.array<shape=(8640, 3790800), chunksize=(1440, 500000)>"
      ]
     },
     "execution_count": 18,
     "metadata": {},
     "output_type": "execute_result"
    }
   ],
   "source": [
    "# full dataset is too big, and there is lots of redundant information\n",
    "# we don't need to process every single grid point to get good spectra\n",
    "subset_factor = 8\n",
    "\n",
    "ds_subset = (xr.merge([ds_grid.reset_coords()[['XC', 'YC','CS', 'SN']],\n",
    "                       mask,\n",
    "                       ds_uv])\n",
    "               .isel(j=slice(0 ,None, subset_factor),\n",
    "                     i=slice(0, None, subset_factor), \n",
    "                     time=slice(0, 8640)) # get exactly 360 days\n",
    "               .stack(point=['face', 'j', 'i'])\n",
    "               .chunk({'time': 24*60, 'point': 500000})) # chunk it into 60 day segments\n",
    "ds_subset"
   ]
  },
  {
   "cell_type": "markdown",
   "metadata": {},
   "source": [
    "Define complex velocity\n",
    "\n",
    "$$ Z = u + i v $$\n",
    "\n",
    "On the LLC grid, U and V don't represent the actual zonal / meridional velocity. They are components of a vector in the curvilinear model space. Originally I thought I had to project the vectors into zonal / meridional basis, but then I realized this step was unnecessary. As long as the vectors have the correct relationship (i.e. v is 90 degrees to the left of u), then the calculation comes out fine."
   ]
  },
  {
   "cell_type": "code",
   "execution_count": 19,
   "metadata": {},
   "outputs": [
    {
     "data": {
      "text/plain": [
       "<xarray.DataArray (time: 8640, point: 3790800)>\n",
       "dask.array<shape=(8640, 3790800), dtype=complex64, chunksize=(1440, 500000)>\n",
       "Coordinates:\n",
       "  * time     (time) datetime64[ns] 2011-09-13 ... 2012-09-06T23:00:00\n",
       "  * point    (point) MultiIndex\n",
       "  - face     (point) int64 0 0 0 0 0 0 0 0 0 0 0 0 0 ... 0 0 0 0 0 0 0 0 0 0 0 0\n",
       "  - j        (point) int64 0 0 0 0 0 0 0 0 0 0 0 0 0 ... 0 0 0 0 0 0 0 0 0 0 0 0\n",
       "  - i        (point) int64 0 8 16 24 32 40 48 56 ... 184 192 200 208 216 224 232"
      ]
     },
     "execution_count": 19,
     "metadata": {},
     "output_type": "execute_result"
    }
   ],
   "source": [
    "# Rotating vectors is not necessary as long as the U, V components have a consistent relationship\n",
    "\n",
    "Z = ds_subset.U + 1j*ds_subset.V\n",
    "Z"
   ]
  },
  {
   "cell_type": "markdown",
   "metadata": {},
   "source": [
    "### Use xrft to take power spectrum\n",
    "\n",
    "You need the latest version of our [xrft](https://xrft.readthedocs.io/en/latest/) package for this to work. You can get it by running\n",
    "\n",
    "    pip install --user git+https://github.com/xgcm/xrft.git"
   ]
  },
  {
   "cell_type": "code",
   "execution_count": 20,
   "metadata": {},
   "outputs": [
    {
     "data": {
      "text/plain": [
       "<xarray.DataArray 'rechunk-merge-ddeea9f2d9062e839a2a403262f2e83f' (time_segment: 6, freq_time: 1440, point: 3790800)>\n",
       "dask.array<shape=(6, 1440, 3790800), dtype=float64, chunksize=(1, 1440, 500000)>\n",
       "Coordinates:\n",
       "  * time_segment       (time_segment) int64 0 1 2 3 4 5\n",
       "  * freq_time          (freq_time) float64 -0.0001389 -0.0001387 ... 0.0001387\n",
       "  * point              (point) object (0, 0, 0) (0, 0, 8) ... (12, 4312, 4312)\n",
       "    freq_time_spacing  float64 1.929e-07"
      ]
     },
     "execution_count": 20,
     "metadata": {},
     "output_type": "execute_result"
    }
   ],
   "source": [
    "Z_ps = xrft.power_spectrum(Z, dim=['time'],\n",
    "                           window=True, detrend='constant',\n",
    "                           chunks_to_segments=True)\n",
    "Z_ps"
   ]
  },
  {
   "cell_type": "markdown",
   "metadata": {},
   "source": [
    "### Take the Zonal Mean\n",
    "\n",
    "Here we use `groupby_bins` to sort the points into latitude bins."
   ]
  },
  {
   "cell_type": "code",
   "execution_count": 21,
   "metadata": {},
   "outputs": [
    {
     "data": {
      "text/plain": [
       "<xarray.DataArray 'rechunk-merge-ddeea9f2d9062e839a2a403262f2e83f' (freq_time: 1440, YC_bins: 81)>\n",
       "dask.array<shape=(1440, 81), dtype=float64, chunksize=(1440, 1)>\n",
       "Coordinates:\n",
       "  * YC_bins            (YC_bins) int64 -80 -78 -76 -74 -72 ... 72 74 76 78 80\n",
       "  * freq_time          (freq_time) float64 -0.0001389 -0.0001387 ... 0.0001387\n",
       "    freq_time_spacing  float64 1.929e-07"
      ]
     },
     "execution_count": 21,
     "metadata": {},
     "output_type": "execute_result"
    }
   ],
   "source": [
    "Z_ps_zonmean = (Z_ps.groupby_bins(ds_subset['YC'], np.arange(-81, 82, 2), labels=np.arange(-80, 81, 2))\n",
    "                    .mean(dim=['time_segment', 'point']))\n",
    "Z_ps_zonmean"
   ]
  },
  {
   "cell_type": "markdown",
   "metadata": {},
   "source": [
    "### Do the Computation\n",
    "\n",
    "It takes ~3 minutes for dask to chew on the graph before sending it to the scheduler. That's because it has millions of tasks."
   ]
  },
  {
   "cell_type": "code",
   "execution_count": null,
   "metadata": {},
   "outputs": [],
   "source": []
  },
  {
   "cell_type": "code",
   "execution_count": 25,
   "metadata": {},
   "outputs": [
    {
     "name": "stdout",
     "output_type": "stream",
     "text": [
      "1382322\n"
     ]
    },
    {
     "name": "stderr",
     "output_type": "stream",
     "text": [
      "distributed.utils_perf - WARNING - full garbage collections took 20% CPU time recently (threshold: 10%)\n",
      "distributed.utils_perf - WARNING - full garbage collections took 21% CPU time recently (threshold: 10%)\n",
      "distributed.utils_perf - WARNING - full garbage collections took 21% CPU time recently (threshold: 10%)\n",
      "distributed.utils_perf - WARNING - full garbage collections took 21% CPU time recently (threshold: 10%)\n",
      "distributed.utils_perf - WARNING - full garbage collections took 21% CPU time recently (threshold: 10%)\n",
      "distributed.utils_perf - WARNING - full garbage collections took 20% CPU time recently (threshold: 10%)\n",
      "distributed.utils_perf - WARNING - full garbage collections took 20% CPU time recently (threshold: 10%)\n"
     ]
    },
    {
     "name": "stdout",
     "output_type": "stream",
     "text": [
      "CPU times: user 4min 15s, sys: 11.9 s, total: 4min 27s\n",
      "Wall time: 4min 20s\n"
     ]
    },
    {
     "name": "stderr",
     "output_type": "stream",
     "text": [
      "distributed.utils_perf - WARNING - full garbage collections took 20% CPU time recently (threshold: 10%)\n",
      "distributed.utils_perf - WARNING - full garbage collections took 20% CPU time recently (threshold: 10%)\n",
      "distributed.utils_perf - WARNING - full garbage collections took 20% CPU time recently (threshold: 10%)\n",
      "distributed.utils_perf - WARNING - full garbage collections took 20% CPU time recently (threshold: 10%)\n",
      "distributed.utils_perf - WARNING - full garbage collections took 20% CPU time recently (threshold: 10%)\n",
      "distributed.utils_perf - WARNING - full garbage collections took 21% CPU time recently (threshold: 10%)\n",
      "distributed.utils_perf - WARNING - full garbage collections took 21% CPU time recently (threshold: 10%)\n",
      "distributed.utils_perf - WARNING - full garbage collections took 21% CPU time recently (threshold: 10%)\n",
      "distributed.utils_perf - WARNING - full garbage collections took 22% CPU time recently (threshold: 10%)\n",
      "distributed.utils_perf - WARNING - full garbage collections took 22% CPU time recently (threshold: 10%)\n",
      "distributed.utils_perf - WARNING - full garbage collections took 23% CPU time recently (threshold: 10%)\n"
     ]
    }
   ],
   "source": [
    "print(len(Z_ps_zonmean.data.dask))\n",
    "%time Z_ps_zonmean_p = Z_ps_zonmean.persist(retries=10)"
   ]
  },
  {
   "cell_type": "code",
   "execution_count": 16,
   "metadata": {},
   "outputs": [
    {
     "data": {
      "text/plain": [
       "8763.116685464"
      ]
     },
     "execution_count": 16,
     "metadata": {},
     "output_type": "execute_result"
    },
    {
     "name": "stderr",
     "output_type": "stream",
     "text": [
      "distributed.utils_perf - WARNING - full garbage collections took 23% CPU time recently (threshold: 10%)\n",
      "distributed.utils_perf - WARNING - full garbage collections took 26% CPU time recently (threshold: 10%)\n",
      "distributed.utils_perf - WARNING - full garbage collections took 18% CPU time recently (threshold: 10%)\n",
      "distributed.utils_perf - WARNING - full garbage collections took 20% CPU time recently (threshold: 10%)\n"
     ]
    }
   ],
   "source": [
    "ds_U.nbytes/1e9"
   ]
  },
  {
   "cell_type": "markdown",
   "metadata": {},
   "source": [
    "Watch the scheduler while this is happening. It takes a while.\n",
    "\n",
    "### Make the plot\n"
   ]
  },
  {
   "cell_type": "code",
   "execution_count": 16,
   "metadata": {},
   "outputs": [],
   "source": [
    "# make sure the data is memory\n",
    "Z_ps_zonmean_p = Z_ps_zonmean_p.load()"
   ]
  },
  {
   "cell_type": "code",
   "execution_count": 17,
   "metadata": {},
   "outputs": [
    {
     "data": {
      "text/plain": [
       "<matplotlib.legend.Legend at 0x7f3be5902588>"
      ]
     },
     "execution_count": 17,
     "metadata": {},
     "output_type": "execute_result"
    },
    {
     "data": {
      "image/png": "[encoded data removed]",
      "text/plain": [
       "<Figure size 864x432 with 2 Axes>"
      ]
     },
     "metadata": {},
     "output_type": "display_data"
    }
   ],
   "source": [
    "day = 24*60*60\n",
    "Z_ps_zonmean_p.coords['freq_cycles_per_day'] = Z_ps_zonmean_p.freq_time * day\n",
    "Z_ps_zonmean_p.coords['freq_cycles_per_day'].attrs['units'] = 'cycles per day'\n",
    "# original units are m2/s2 / (cycles per s) = m2 s / (cycles s^2)\n",
    "# want (cm2 / s2) / (cycles per day) = cm2 day / (cycles s^2)\n",
    "# 100 cm / m\n",
    "# 24*60*60 days / s\n",
    "scale_fac =  day / (10000)\n",
    "\n",
    "ps_to_plot = scale_fac * Z_ps_zonmean_p.swap_dims({'freq_time': 'freq_cycles_per_day'})\n",
    "ps_to_plot = ps_to_plot.rename(r'cm$^2$ s$^{-1}$ cpd $^{-1}$')\n",
    "\n",
    "omega = 7.2921e-5\n",
    "f_coriolis = (2*omega*np.sin(np.deg2rad(ps_to_plot.YC_bins))) * day / (2*np.pi)\n",
    "\n",
    "from matplotlib.colors import LogNorm\n",
    "ps_to_plot.transpose().plot(figsize=(12,6), cmap='viridis', norm=LogNorm(), vmin=1e-1, vmax=1e2)\n",
    "(-f_coriolis).plot.line(y='YC_bins', color='k', linestyle=':')\n",
    "plt.xlim([-3, 3])\n",
    "plt.xlabel('Frequency (Cycles per Day)')\n",
    "plt.ylabel('Latitude')\n",
    "plt.title('Power Spectral Density')\n",
    "plt.legend(['Coriolis Frequency'])"
   ]
  },
  {
   "cell_type": "markdown",
   "metadata": {},
   "source": [
    "### Comparison\n",
    "\n",
    "With [Elipot et al. (2016)](https://agupubs.onlinelibrary.wiley.com/doi/full/10.1002/2016JC011716)\n",
    "\n",
    "![elipot figure](https://wol-prod-cdn.literatumonline.com/cms/attachment/ef844337-2142-4734-822f-f6e723ea9396/jgrc21689-fig-0017-m.jpg)"
   ]
  },
  {
   "cell_type": "code",
   "execution_count": null,
   "metadata": {},
   "outputs": [],
   "source": []
  }
 ],
 "metadata": {
  "kernelspec": {
   "display_name": "Python 3",
   "language": "python",
   "name": "python3"
  },
  "language_info": {
   "codemirror_mode": {
    "name": "ipython",
    "version": 3
   },
   "file_extension": ".py",
   "mimetype": "text/x-python",
   "name": "python",
   "nbconvert_exporter": "python",
   "pygments_lexer": "ipython3",
   "version": "3.7.3"
  }
 },
 "nbformat": 4,
 "nbformat_minor": 4
}
